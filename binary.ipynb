{
 "cells": [
  {
   "cell_type": "code",
   "execution_count": null,
   "id": "1b3bd7a8",
   "metadata": {},
   "outputs": [
    {
     "name": "stdout",
     "output_type": "stream",
     "text": [
      "offset=127\n"
     ]
    }
   ],
   "source": [
    "offset = 0x80\n",
    "\n",
    "if offset & 0x80: offset -= 0x100  # sign extend\n",
    "# self.pc = (self.pc + offset) & 0xFFFF\n",
    "print(f'offset={offset}')"
   ]
  }
 ],
 "metadata": {
  "kernelspec": {
   "display_name": "amulet",
   "language": "python",
   "name": "python3"
  },
  "language_info": {
   "codemirror_mode": {
    "name": "ipython",
    "version": 3
   },
   "file_extension": ".py",
   "mimetype": "text/x-python",
   "name": "python",
   "nbconvert_exporter": "python",
   "pygments_lexer": "ipython3",
   "version": "3.13.7"
  }
 },
 "nbformat": 4,
 "nbformat_minor": 5
}
